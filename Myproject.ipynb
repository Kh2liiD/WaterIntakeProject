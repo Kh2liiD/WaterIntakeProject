{
  "nbformat": 4,
  "nbformat_minor": 0,
  "metadata": {
    "colab": {
      "provenance": []
    },
    "kernelspec": {
      "name": "python3",
      "display_name": "Python 3"
    },
    "language_info": {
      "name": "python"
    }
  },
  "cells": [
    {
      "cell_type": "code",
      "execution_count": null,
      "metadata": {
        "colab": {
          "base_uri": "https://localhost:8080/",
          "height": 349
        },
        "id": "1O4MDNEc2PYW",
        "outputId": "09498e0e-229d-41fe-a382-7604ddbac516"
      },
      "outputs": [
        {
          "output_type": "stream",
          "name": "stdout",
          "text": [
            "File 'WaterData.csv' not found. Check the file name and path.\n"
          ]
        },
        {
          "output_type": "error",
          "ename": "NameError",
          "evalue": "name 'data' is not defined",
          "traceback": [
            "\u001b[0;31m---------------------------------------------------------------------------\u001b[0m",
            "\u001b[0;31mNameError\u001b[0m                                 Traceback (most recent call last)",
            "\u001b[0;32m<ipython-input-1-b0ecad5ac5f7>\u001b[0m in \u001b[0;36m<cell line: 0>\u001b[0;34m()\u001b[0m\n\u001b[1;32m     15\u001b[0m \u001b[0;31m# step 2: verify the data\u001b[0m\u001b[0;34m\u001b[0m\u001b[0;34m\u001b[0m\u001b[0m\n\u001b[1;32m     16\u001b[0m \u001b[0mrequired_data\u001b[0m \u001b[0;34m=\u001b[0m \u001b[0;34m[\u001b[0m\u001b[0;34m'Age'\u001b[0m\u001b[0;34m,\u001b[0m \u001b[0;34m'Weight'\u001b[0m\u001b[0;34m,\u001b[0m \u001b[0;34m'Gender'\u001b[0m\u001b[0;34m,\u001b[0m \u001b[0;34m'Water'\u001b[0m\u001b[0;34m]\u001b[0m\u001b[0;34m\u001b[0m\u001b[0;34m\u001b[0m\u001b[0m\n\u001b[0;32m---> 17\u001b[0;31m \u001b[0;32mif\u001b[0m \u001b[0;32mnot\u001b[0m \u001b[0mall\u001b[0m\u001b[0;34m(\u001b[0m\u001b[0mi\u001b[0m \u001b[0;32min\u001b[0m \u001b[0mdata\u001b[0m\u001b[0;34m.\u001b[0m\u001b[0mcolumns\u001b[0m \u001b[0;32mfor\u001b[0m \u001b[0mi\u001b[0m \u001b[0;32min\u001b[0m \u001b[0mrequired_data\u001b[0m\u001b[0;34m)\u001b[0m\u001b[0;34m:\u001b[0m\u001b[0;34m\u001b[0m\u001b[0;34m\u001b[0m\u001b[0m\n\u001b[0m\u001b[1;32m     18\u001b[0m     \u001b[0mprint\u001b[0m\u001b[0;34m(\u001b[0m\u001b[0;34mf\"Required data {required_data} not found in the CSV file.\"\u001b[0m\u001b[0;34m)\u001b[0m\u001b[0;34m\u001b[0m\u001b[0;34m\u001b[0m\u001b[0m\n\u001b[1;32m     19\u001b[0m     \u001b[0mexit\u001b[0m\u001b[0;34m(\u001b[0m\u001b[0;34m)\u001b[0m\u001b[0;34m\u001b[0m\u001b[0;34m\u001b[0m\u001b[0m\n",
            "\u001b[0;32m<ipython-input-1-b0ecad5ac5f7>\u001b[0m in \u001b[0;36m<genexpr>\u001b[0;34m(.0)\u001b[0m\n\u001b[1;32m     15\u001b[0m \u001b[0;31m# step 2: verify the data\u001b[0m\u001b[0;34m\u001b[0m\u001b[0;34m\u001b[0m\u001b[0m\n\u001b[1;32m     16\u001b[0m \u001b[0mrequired_data\u001b[0m \u001b[0;34m=\u001b[0m \u001b[0;34m[\u001b[0m\u001b[0;34m'Age'\u001b[0m\u001b[0;34m,\u001b[0m \u001b[0;34m'Weight'\u001b[0m\u001b[0;34m,\u001b[0m \u001b[0;34m'Gender'\u001b[0m\u001b[0;34m,\u001b[0m \u001b[0;34m'Water'\u001b[0m\u001b[0;34m]\u001b[0m\u001b[0;34m\u001b[0m\u001b[0;34m\u001b[0m\u001b[0m\n\u001b[0;32m---> 17\u001b[0;31m \u001b[0;32mif\u001b[0m \u001b[0;32mnot\u001b[0m \u001b[0mall\u001b[0m\u001b[0;34m(\u001b[0m\u001b[0mi\u001b[0m \u001b[0;32min\u001b[0m \u001b[0mdata\u001b[0m\u001b[0;34m.\u001b[0m\u001b[0mcolumns\u001b[0m \u001b[0;32mfor\u001b[0m \u001b[0mi\u001b[0m \u001b[0;32min\u001b[0m \u001b[0mrequired_data\u001b[0m\u001b[0;34m)\u001b[0m\u001b[0;34m:\u001b[0m\u001b[0;34m\u001b[0m\u001b[0;34m\u001b[0m\u001b[0m\n\u001b[0m\u001b[1;32m     18\u001b[0m     \u001b[0mprint\u001b[0m\u001b[0;34m(\u001b[0m\u001b[0;34mf\"Required data {required_data} not found in the CSV file.\"\u001b[0m\u001b[0;34m)\u001b[0m\u001b[0;34m\u001b[0m\u001b[0;34m\u001b[0m\u001b[0m\n\u001b[1;32m     19\u001b[0m     \u001b[0mexit\u001b[0m\u001b[0;34m(\u001b[0m\u001b[0;34m)\u001b[0m\u001b[0;34m\u001b[0m\u001b[0;34m\u001b[0m\u001b[0m\n",
            "\u001b[0;31mNameError\u001b[0m: name 'data' is not defined"
          ]
        }
      ],
      "source": [
        "import numpy as np\n",
        "import pandas as pd\n",
        "from sklearn.linear_model import LinearRegression\n",
        "from google.colab import drive\n",
        "drive.mount('/content/drive')\n",
        "\n",
        "# this code predicate water intake for male or female even kids\n",
        "\n",
        "\n",
        "# step1: read the data from csv file\n",
        "try:\n",
        "    data = pd.read_csv('WaterData.csv')\n",
        "except FileNotFoundError:\n",
        "    print(\"File 'WaterData.csv' not found. Check the file name and path.\")\n",
        "    exit()\n",
        "\n",
        "# step 2: verify the data\n",
        "required_data = ['Age', 'Weight', 'Gender', 'Water']\n",
        "if not all(i in data.columns for i in required_data):\n",
        "    print(f\"Required data {required_data} not found in the CSV file.\")\n",
        "    exit()\n",
        "\n",
        "# Step 3: convert Gender to numerical (M=1, F=0)\n",
        "\n",
        "data['Gender'] = data['Gender'].map({'M': 1, 'F': 0})\n",
        "\n",
        "\n",
        "X = data[['Age', 'Weight', 'Gender']].values\n",
        "y = data['Water'].values\n",
        "\n",
        "# step 4: fitting the model\n",
        "model = LinearRegression()\n",
        "model.fit(X, y)\n",
        "\n",
        "# Step 5: input for prediction\n",
        "while True:\n",
        "    try:\n",
        "        age = float(input(\"Enter your age : \"))\n",
        "        if age <= 0:\n",
        "            print(\"Age must be positive.\")\n",
        "            continue\n",
        "        break\n",
        "    except ValueError:\n",
        "        print(\"Invalid input. Enter a number.\")\n",
        "\n",
        "while True:\n",
        "    try:\n",
        "        weight = float(input(\"Enter your weight (kg): \"))\n",
        "        if weight <= 0:\n",
        "            print(\"Weight must be positive.\")\n",
        "            continue\n",
        "        break\n",
        "    except ValueError:\n",
        "        print(\"Invalid input. Enter a number.\")\n",
        "\n",
        "while True:\n",
        "    gender = input(\"Enter your gender (M/F): \").strip().upper()\n",
        "    if gender not in ['M', 'F']:\n",
        "        print(\"Enter 'M' for male or 'F' for female.\")\n",
        "        continue\n",
        "    gender_numeric = 1 if gender == 'M' else 0\n",
        "    break\n",
        "\n",
        "# Step 6: Predict water intake\n",
        "user_data = np.array([[age, weight, gender_numeric]])\n",
        "water_prediction = model.predict(user_data)[0]\n",
        "print(f\"Predicted daily water intake for {age:.0f} years, {weight:.1f} kg, Gender {gender}: {water_prediction:.2f} liters\")"
      ]
    },
    {
      "cell_type": "code",
      "source": [
        "from google.colab import drive\n",
        "drive.mount('/content/drive')"
      ],
      "metadata": {
        "id": "Ms2nESqc-5Iy"
      },
      "execution_count": null,
      "outputs": []
    },
    {
      "cell_type": "markdown",
      "source": [
        "# New Section"
      ],
      "metadata": {
        "id": "PLuTo3ps-9pg"
      }
    }
  ]
}